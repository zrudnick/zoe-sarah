{
 "cells": [
  {
   "cell_type": "code",
   "execution_count": 2,
   "metadata": {
    "collapsed": true
   },
   "outputs": [],
   "source": [
    "import numpy as np\n",
    "import pandas as pd\n",
    "from sergio import sergio"
   ]
  },
  {
   "cell_type": "markdown",
   "metadata": {},
   "source": [
    "# Simulate Clean Data _ Steady-State Simulation"
   ]
  },
  {
   "cell_type": "code",
   "execution_count": null,
   "metadata": {},
   "outputs": [],
   "source": [
    "sim = sergio(number_genes=100, number_bins = 9, number_sc = 300, noise_params = 1, decays=0.8, sampling_state=15, noise_type='dpd')\n",
    "sim.build_graph(input_file_taregts ='steady-state_input_GRN.txt', input_file_regs='steady-state_input_MRs.txt', shared_coop_state=2)\n",
    "sim.simulate()\n",
    "expr = sim.getExpressions()\n",
    "expr_clean_ss = np.concatenate(expr, axis = 1)"
   ]
  },
  {
   "cell_type": "markdown",
   "metadata": {},
   "source": [
    "# Simulate Clean Data _ differentiation Simulation"
   ]
  },
  {
   "cell_type": "code",
   "execution_count": 3,
   "metadata": {
    "collapsed": true
   },
   "outputs": [
    {
     "ename": "AttributeError",
     "evalue": "module 'numpy' has no attribute 'int'.\n`np.int` was a deprecated alias for the builtin `int`. To avoid this error in existing code, use `int` by itself. Doing this will not modify any behavior and is safe. When replacing `np.int`, you may wish to use e.g. `np.int64` or `np.int32` to specify the precision. If you wish to review your current use, check the release note link for additional information.\nThe aliases was originally deprecated in NumPy 1.20; for more details and guidance see the original release note at:\n    https://numpy.org/devdocs/release/1.20.0-notes.html#deprecations",
     "output_type": "error",
     "traceback": [
      "\u001b[1;31m---------------------------------------------------------------------------\u001b[0m",
      "\u001b[1;31mAttributeError\u001b[0m                            Traceback (most recent call last)",
      "\u001b[1;32mc:\\Users\\zoeru\\OneDrive\\Desktop\\research\\SERGIO tests\\SERGIO\\Demo\\demo_run.ipynb Cell 5\u001b[0m line \u001b[0;36m5\n\u001b[0;32m      <a href='vscode-notebook-cell:/c%3A/Users/zoeru/OneDrive/Desktop/research/SERGIO%20tests/SERGIO/Demo/demo_run.ipynb#W4sZmlsZQ%3D%3D?line=1'>2</a>\u001b[0m bMat \u001b[39m=\u001b[39m df\u001b[39m.\u001b[39mvalues\n\u001b[0;32m      <a href='vscode-notebook-cell:/c%3A/Users/zoeru/OneDrive/Desktop/research/SERGIO%20tests/SERGIO/Demo/demo_run.ipynb#W4sZmlsZQ%3D%3D?line=3'>4</a>\u001b[0m sim \u001b[39m=\u001b[39m sergio(number_genes\u001b[39m=\u001b[39m\u001b[39m100\u001b[39m, number_bins \u001b[39m=\u001b[39m \u001b[39m3\u001b[39m, number_sc \u001b[39m=\u001b[39m \u001b[39m100\u001b[39m, noise_params \u001b[39m=\u001b[39m \u001b[39m0.3\u001b[39m, decays\u001b[39m=\u001b[39m\u001b[39m0.8\u001b[39m, sampling_state \u001b[39m=\u001b[39m \u001b[39m1\u001b[39m, noise_params_splice \u001b[39m=\u001b[39m \u001b[39m0.1\u001b[39m, noise_type\u001b[39m=\u001b[39m\u001b[39m'\u001b[39m\u001b[39mdpd\u001b[39m\u001b[39m'\u001b[39m, dynamics\u001b[39m=\u001b[39m\u001b[39mTrue\u001b[39;00m, bifurcation_matrix\u001b[39m=\u001b[39m bMat, splice_ratio\u001b[39m=\u001b[39m\u001b[39m1.5\u001b[39m)\n\u001b[1;32m----> <a href='vscode-notebook-cell:/c%3A/Users/zoeru/OneDrive/Desktop/research/SERGIO%20tests/SERGIO/Demo/demo_run.ipynb#W4sZmlsZQ%3D%3D?line=4'>5</a>\u001b[0m sim\u001b[39m.\u001b[39;49mbuild_graph(input_file_taregts \u001b[39m=\u001b[39;49m\u001b[39m'\u001b[39;49m\u001b[39mdifferentiation_input_GRN.txt\u001b[39;49m\u001b[39m'\u001b[39;49m, input_file_regs\u001b[39m=\u001b[39;49m\u001b[39m'\u001b[39;49m\u001b[39mdifferentiation_input_MRs.txt\u001b[39;49m\u001b[39m'\u001b[39;49m, shared_coop_state\u001b[39m=\u001b[39;49m\u001b[39m2\u001b[39;49m)\n\u001b[0;32m      <a href='vscode-notebook-cell:/c%3A/Users/zoeru/OneDrive/Desktop/research/SERGIO%20tests/SERGIO/Demo/demo_run.ipynb#W4sZmlsZQ%3D%3D?line=5'>6</a>\u001b[0m sim\u001b[39m.\u001b[39msimulate_dynamics()\n\u001b[0;32m      <a href='vscode-notebook-cell:/c%3A/Users/zoeru/OneDrive/Desktop/research/SERGIO%20tests/SERGIO/Demo/demo_run.ipynb#W4sZmlsZQ%3D%3D?line=6'>7</a>\u001b[0m exprU, exprS \u001b[39m=\u001b[39m sim\u001b[39m.\u001b[39mgetExpressions_dynamics()\n",
      "File \u001b[1;32mc:\\Users\\zoeru\\OneDrive\\Desktop\\research\\SERGIO tests\\SERGIO\\Demo\\sergio.py:183\u001b[0m, in \u001b[0;36msergio.build_graph\u001b[1;34m(self, input_file_taregts, input_file_regs, shared_coop_state)\u001b[0m\n\u001b[0;32m    178\u001b[0m         \u001b[39m#if self.dyn_:\u001b[39;00m\n\u001b[0;32m    179\u001b[0m         \u001b[39m#    for b in range(self.nBins_):\u001b[39;00m\n\u001b[0;32m    180\u001b[0m         \u001b[39m#        binDict[b].append(gene(np.int(row[0]),'T', b))\u001b[39;00m\n\u001b[0;32m    181\u001b[0m \u001b[39melse\u001b[39;00m:\n\u001b[0;32m    182\u001b[0m     \u001b[39mfor\u001b[39;00m indRow, row \u001b[39min\u001b[39;00m \u001b[39menumerate\u001b[39m(reader):\n\u001b[1;32m--> 183\u001b[0m         nRegs \u001b[39m=\u001b[39m np\u001b[39m.\u001b[39;49mint(np\u001b[39m.\u001b[39mfloat(row[\u001b[39m1\u001b[39m]))\n\u001b[0;32m    184\u001b[0m         \u001b[39m##################### Raise Error ##########################\u001b[39;00m\n\u001b[0;32m    185\u001b[0m         \u001b[39mif\u001b[39;00m nRegs \u001b[39m==\u001b[39m \u001b[39m0\u001b[39m:\n",
      "File \u001b[1;32mc:\\Users\\zoeru\\AppData\\Local\\Programs\\Python\\Python311\\Lib\\site-packages\\numpy\\__init__.py:319\u001b[0m, in \u001b[0;36m__getattr__\u001b[1;34m(attr)\u001b[0m\n\u001b[0;32m    314\u001b[0m     warnings\u001b[39m.\u001b[39mwarn(\n\u001b[0;32m    315\u001b[0m         \u001b[39mf\u001b[39m\u001b[39m\"\u001b[39m\u001b[39mIn the future `np.\u001b[39m\u001b[39m{\u001b[39;00mattr\u001b[39m}\u001b[39;00m\u001b[39m` will be defined as the \u001b[39m\u001b[39m\"\u001b[39m\n\u001b[0;32m    316\u001b[0m         \u001b[39m\"\u001b[39m\u001b[39mcorresponding NumPy scalar.\u001b[39m\u001b[39m\"\u001b[39m, \u001b[39mFutureWarning\u001b[39;00m, stacklevel\u001b[39m=\u001b[39m\u001b[39m2\u001b[39m)\n\u001b[0;32m    318\u001b[0m \u001b[39mif\u001b[39;00m attr \u001b[39min\u001b[39;00m __former_attrs__:\n\u001b[1;32m--> 319\u001b[0m     \u001b[39mraise\u001b[39;00m \u001b[39mAttributeError\u001b[39;00m(__former_attrs__[attr])\n\u001b[0;32m    321\u001b[0m \u001b[39mif\u001b[39;00m attr \u001b[39m==\u001b[39m \u001b[39m'\u001b[39m\u001b[39mtesting\u001b[39m\u001b[39m'\u001b[39m:\n\u001b[0;32m    322\u001b[0m     \u001b[39mimport\u001b[39;00m \u001b[39mnumpy\u001b[39;00m\u001b[39m.\u001b[39;00m\u001b[39mtesting\u001b[39;00m \u001b[39mas\u001b[39;00m \u001b[39mtesting\u001b[39;00m\n",
      "\u001b[1;31mAttributeError\u001b[0m: module 'numpy' has no attribute 'int'.\n`np.int` was a deprecated alias for the builtin `int`. To avoid this error in existing code, use `int` by itself. Doing this will not modify any behavior and is safe. When replacing `np.int`, you may wish to use e.g. `np.int64` or `np.int32` to specify the precision. If you wish to review your current use, check the release note link for additional information.\nThe aliases was originally deprecated in NumPy 1.20; for more details and guidance see the original release note at:\n    https://numpy.org/devdocs/release/1.20.0-notes.html#deprecations"
     ]
    }
   ],
   "source": [
    "df = pd.read_csv('differentiation_graph.tab', sep='\\t', header=None, index_col=None)\n",
    "bMat = df.values\n",
    "\n",
    "sim = sergio(number_genes=100, number_bins = 3, number_sc = 100, noise_params = 0.3, decays=0.8, sampling_state = 1, noise_params_splice = 0.1, noise_type='dpd', dynamics=True, bifurcation_matrix= bMat, splice_ratio=1.5)\n",
    "sim.build_graph(input_file_taregts ='differentiation_input_GRN.txt', input_file_regs='differentiation_input_MRs.txt', shared_coop_state=2)\n",
    "sim.simulate_dynamics()\n",
    "exprU, exprS = sim.getExpressions_dynamics()\n",
    "exprU_clean = np.concatenate(exprU, axis = 1)\n",
    "exprS_clean = np.concatenate(exprS, axis = 1)\n",
    "\n",
    "expr_clean_dif = exprU_clean + exprS_clean"
   ]
  }
 ],
 "metadata": {
  "kernelspec": {
   "display_name": "Python 3",
   "language": "python",
   "name": "python3"
  },
  "language_info": {
   "codemirror_mode": {
    "name": "ipython",
    "version": 3
   },
   "file_extension": ".py",
   "mimetype": "text/x-python",
   "name": "python",
   "nbconvert_exporter": "python",
   "pygments_lexer": "ipython3",
   "version": "3.11.5"
  }
 },
 "nbformat": 4,
 "nbformat_minor": 2
}
